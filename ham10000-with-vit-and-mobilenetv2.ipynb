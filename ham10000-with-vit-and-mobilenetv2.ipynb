{
 "cells": [
  {
   "cell_type": "code",
   "execution_count": 1,
   "id": "ac01781a",
   "metadata": {
    "execution": {
     "iopub.execute_input": "2023-10-25T15:39:33.944181Z",
     "iopub.status.busy": "2023-10-25T15:39:33.943743Z",
     "iopub.status.idle": "2023-10-25T15:39:40.467103Z",
     "shell.execute_reply": "2023-10-25T15:39:40.466215Z"
    },
    "papermill": {
     "duration": 6.539012,
     "end_time": "2023-10-25T15:39:40.469840",
     "exception": false,
     "start_time": "2023-10-25T15:39:33.930828",
     "status": "completed"
    },
    "tags": []
   },
   "outputs": [],
   "source": [
    "import matplotlib.pyplot as plt\n",
    "from PIL import Image\n",
    "import seaborn as sns\n",
    "import cv2 as cv\n",
    "import numpy as np\n",
    "import pandas as pd\n",
    "import os\n",
    "from tensorflow.keras.utils import to_categorical\n",
    "from glob import glob\n",
    "from tensorflow.keras.preprocessing.image import ImageDataGenerator"
   ]
  },
  {
   "cell_type": "code",
   "execution_count": 2,
   "id": "85f89d55",
   "metadata": {
    "execution": {
     "iopub.execute_input": "2023-10-25T15:39:40.492054Z",
     "iopub.status.busy": "2023-10-25T15:39:40.491451Z",
     "iopub.status.idle": "2023-10-25T15:39:40.533965Z",
     "shell.execute_reply": "2023-10-25T15:39:40.533234Z"
    },
    "papermill": {
     "duration": 0.05562,
     "end_time": "2023-10-25T15:39:40.536117",
     "exception": false,
     "start_time": "2023-10-25T15:39:40.480497",
     "status": "completed"
    },
    "tags": []
   },
   "outputs": [],
   "source": [
    "df = pd.read_csv('../input/skin-cancer-mnist-ham10000/HAM10000_metadata.csv')"
   ]
  },
  {
   "cell_type": "code",
   "execution_count": 3,
   "id": "55c6a31e",
   "metadata": {
    "execution": {
     "iopub.execute_input": "2023-10-25T15:39:40.557216Z",
     "iopub.status.busy": "2023-10-25T15:39:40.556902Z",
     "iopub.status.idle": "2023-10-25T15:39:40.576675Z",
     "shell.execute_reply": "2023-10-25T15:39:40.575808Z"
    },
    "papermill": {
     "duration": 0.033169,
     "end_time": "2023-10-25T15:39:40.579334",
     "exception": false,
     "start_time": "2023-10-25T15:39:40.546165",
     "status": "completed"
    },
    "tags": []
   },
   "outputs": [
    {
     "data": {
      "text/html": [
       "<div>\n",
       "<style scoped>\n",
       "    .dataframe tbody tr th:only-of-type {\n",
       "        vertical-align: middle;\n",
       "    }\n",
       "\n",
       "    .dataframe tbody tr th {\n",
       "        vertical-align: top;\n",
       "    }\n",
       "\n",
       "    .dataframe thead th {\n",
       "        text-align: right;\n",
       "    }\n",
       "</style>\n",
       "<table border=\"1\" class=\"dataframe\">\n",
       "  <thead>\n",
       "    <tr style=\"text-align: right;\">\n",
       "      <th></th>\n",
       "      <th>lesion_id</th>\n",
       "      <th>image_id</th>\n",
       "      <th>dx</th>\n",
       "      <th>dx_type</th>\n",
       "      <th>age</th>\n",
       "      <th>sex</th>\n",
       "      <th>localization</th>\n",
       "    </tr>\n",
       "  </thead>\n",
       "  <tbody>\n",
       "    <tr>\n",
       "      <th>0</th>\n",
       "      <td>HAM_0000118</td>\n",
       "      <td>ISIC_0027419</td>\n",
       "      <td>bkl</td>\n",
       "      <td>histo</td>\n",
       "      <td>80.0</td>\n",
       "      <td>male</td>\n",
       "      <td>scalp</td>\n",
       "    </tr>\n",
       "    <tr>\n",
       "      <th>1</th>\n",
       "      <td>HAM_0000118</td>\n",
       "      <td>ISIC_0025030</td>\n",
       "      <td>bkl</td>\n",
       "      <td>histo</td>\n",
       "      <td>80.0</td>\n",
       "      <td>male</td>\n",
       "      <td>scalp</td>\n",
       "    </tr>\n",
       "    <tr>\n",
       "      <th>2</th>\n",
       "      <td>HAM_0002730</td>\n",
       "      <td>ISIC_0026769</td>\n",
       "      <td>bkl</td>\n",
       "      <td>histo</td>\n",
       "      <td>80.0</td>\n",
       "      <td>male</td>\n",
       "      <td>scalp</td>\n",
       "    </tr>\n",
       "    <tr>\n",
       "      <th>3</th>\n",
       "      <td>HAM_0002730</td>\n",
       "      <td>ISIC_0025661</td>\n",
       "      <td>bkl</td>\n",
       "      <td>histo</td>\n",
       "      <td>80.0</td>\n",
       "      <td>male</td>\n",
       "      <td>scalp</td>\n",
       "    </tr>\n",
       "    <tr>\n",
       "      <th>4</th>\n",
       "      <td>HAM_0001466</td>\n",
       "      <td>ISIC_0031633</td>\n",
       "      <td>bkl</td>\n",
       "      <td>histo</td>\n",
       "      <td>75.0</td>\n",
       "      <td>male</td>\n",
       "      <td>ear</td>\n",
       "    </tr>\n",
       "  </tbody>\n",
       "</table>\n",
       "</div>"
      ],
      "text/plain": [
       "     lesion_id      image_id   dx dx_type   age   sex localization\n",
       "0  HAM_0000118  ISIC_0027419  bkl   histo  80.0  male        scalp\n",
       "1  HAM_0000118  ISIC_0025030  bkl   histo  80.0  male        scalp\n",
       "2  HAM_0002730  ISIC_0026769  bkl   histo  80.0  male        scalp\n",
       "3  HAM_0002730  ISIC_0025661  bkl   histo  80.0  male        scalp\n",
       "4  HAM_0001466  ISIC_0031633  bkl   histo  75.0  male          ear"
      ]
     },
     "execution_count": 3,
     "metadata": {},
     "output_type": "execute_result"
    }
   ],
   "source": [
    "df.head()"
   ]
  },
  {
   "cell_type": "code",
   "execution_count": 4,
   "id": "08ebbc4f",
   "metadata": {
    "execution": {
     "iopub.execute_input": "2023-10-25T15:39:40.600936Z",
     "iopub.status.busy": "2023-10-25T15:39:40.600654Z",
     "iopub.status.idle": "2023-10-25T15:39:40.607643Z",
     "shell.execute_reply": "2023-10-25T15:39:40.606638Z"
    },
    "papermill": {
     "duration": 0.019878,
     "end_time": "2023-10-25T15:39:40.609703",
     "exception": false,
     "start_time": "2023-10-25T15:39:40.589825",
     "status": "completed"
    },
    "tags": []
   },
   "outputs": [
    {
     "data": {
      "text/plain": [
       "lesion_id        object\n",
       "image_id         object\n",
       "dx               object\n",
       "dx_type          object\n",
       "age             float64\n",
       "sex              object\n",
       "localization     object\n",
       "dtype: object"
      ]
     },
     "execution_count": 4,
     "metadata": {},
     "output_type": "execute_result"
    }
   ],
   "source": [
    "df.dtypes"
   ]
  },
  {
   "cell_type": "code",
   "execution_count": 5,
   "id": "feecce83",
   "metadata": {
    "execution": {
     "iopub.execute_input": "2023-10-25T15:39:40.631291Z",
     "iopub.status.busy": "2023-10-25T15:39:40.631000Z",
     "iopub.status.idle": "2023-10-25T15:39:40.643988Z",
     "shell.execute_reply": "2023-10-25T15:39:40.643253Z"
    },
    "papermill": {
     "duration": 0.026794,
     "end_time": "2023-10-25T15:39:40.646776",
     "exception": false,
     "start_time": "2023-10-25T15:39:40.619982",
     "status": "completed"
    },
    "tags": []
   },
   "outputs": [
    {
     "data": {
      "text/plain": [
       "lesion_id        0\n",
       "image_id         0\n",
       "dx               0\n",
       "dx_type          0\n",
       "age             57\n",
       "sex              0\n",
       "localization     0\n",
       "dtype: int64"
      ]
     },
     "execution_count": 5,
     "metadata": {},
     "output_type": "execute_result"
    }
   ],
   "source": [
    "df.isnull().sum()"
   ]
  },
  {
   "cell_type": "markdown",
   "id": "40b356f0",
   "metadata": {
    "papermill": {
     "duration": 0.010195,
     "end_time": "2023-10-25T15:39:40.669103",
     "exception": false,
     "start_time": "2023-10-25T15:39:40.658908",
     "status": "completed"
    },
    "tags": []
   },
   "source": [
    "### 1.2- data cleaning"
   ]
  },
  {
   "cell_type": "code",
   "execution_count": 6,
   "id": "300e6caf",
   "metadata": {
    "execution": {
     "iopub.execute_input": "2023-10-25T15:39:40.690907Z",
     "iopub.status.busy": "2023-10-25T15:39:40.690633Z",
     "iopub.status.idle": "2023-10-25T15:39:40.697910Z",
     "shell.execute_reply": "2023-10-25T15:39:40.697063Z"
    },
    "papermill": {
     "duration": 0.020589,
     "end_time": "2023-10-25T15:39:40.700014",
     "exception": false,
     "start_time": "2023-10-25T15:39:40.679425",
     "status": "completed"
    },
    "tags": []
   },
   "outputs": [],
   "source": [
    "df['age'].fillna(int(df['age'].mean()),inplace=True)"
   ]
  },
  {
   "cell_type": "markdown",
   "id": "b8edbd5c",
   "metadata": {
    "papermill": {
     "duration": 0.0103,
     "end_time": "2023-10-25T15:39:40.721241",
     "exception": false,
     "start_time": "2023-10-25T15:39:40.710941",
     "status": "completed"
    },
    "tags": []
   },
   "source": [
    "### 1.3- data preprocessing"
   ]
  },
  {
   "cell_type": "code",
   "execution_count": 7,
   "id": "b2ecad0b",
   "metadata": {
    "execution": {
     "iopub.execute_input": "2023-10-25T15:39:40.743344Z",
     "iopub.status.busy": "2023-10-25T15:39:40.743062Z",
     "iopub.status.idle": "2023-10-25T15:39:40.747686Z",
     "shell.execute_reply": "2023-10-25T15:39:40.746884Z"
    },
    "papermill": {
     "duration": 0.018073,
     "end_time": "2023-10-25T15:39:40.749739",
     "exception": false,
     "start_time": "2023-10-25T15:39:40.731666",
     "status": "completed"
    },
    "tags": []
   },
   "outputs": [],
   "source": [
    "lesion_type_dict = {\n",
    "    'nv': 'Melanocytic nevi',\n",
    "    'mel': 'Melanoma',\n",
    "    'bkl': 'Benign keratosis-like lesions ',\n",
    "    'bcc': 'Basal cell carcinoma',\n",
    "    'akiec': 'Actinic keratoses',\n",
    "    'vasc': 'Vascular lesions',\n",
    "    'df': 'Dermatofibroma'\n",
    "}"
   ]
  },
  {
   "cell_type": "code",
   "execution_count": 8,
   "id": "64b9cb67",
   "metadata": {
    "execution": {
     "iopub.execute_input": "2023-10-25T15:39:40.771354Z",
     "iopub.status.busy": "2023-10-25T15:39:40.771081Z",
     "iopub.status.idle": "2023-10-25T15:39:41.752158Z",
     "shell.execute_reply": "2023-10-25T15:39:41.750856Z"
    },
    "papermill": {
     "duration": 0.995496,
     "end_time": "2023-10-25T15:39:41.755443",
     "exception": false,
     "start_time": "2023-10-25T15:39:40.759947",
     "status": "completed"
    },
    "tags": []
   },
   "outputs": [],
   "source": [
    "base_skin_dir = '../input/skin-cancer-mnist-ham10000'\n",
    "imageid_path_dict = {os.path.splitext(os.path.basename(x))[0]: x\n",
    "                     for x in glob(os.path.join(base_skin_dir, '*', '*.jpg'))}"
   ]
  },
  {
   "cell_type": "code",
   "execution_count": 9,
   "id": "0e899f83",
   "metadata": {
    "execution": {
     "iopub.execute_input": "2023-10-25T15:39:41.782764Z",
     "iopub.status.busy": "2023-10-25T15:39:41.782424Z",
     "iopub.status.idle": "2023-10-25T15:39:41.794519Z",
     "shell.execute_reply": "2023-10-25T15:39:41.793578Z"
    },
    "papermill": {
     "duration": 0.028271,
     "end_time": "2023-10-25T15:39:41.796610",
     "exception": false,
     "start_time": "2023-10-25T15:39:41.768339",
     "status": "completed"
    },
    "tags": []
   },
   "outputs": [],
   "source": [
    "df['path'] = df['image_id'].map(imageid_path_dict.get)\n",
    "df['cell_type'] = df['dx'].map(lesion_type_dict.get) "
   ]
  },
  {
   "cell_type": "code",
   "execution_count": 10,
   "id": "a3a0e959",
   "metadata": {
    "execution": {
     "iopub.execute_input": "2023-10-25T15:39:41.819909Z",
     "iopub.status.busy": "2023-10-25T15:39:41.819191Z",
     "iopub.status.idle": "2023-10-25T15:39:41.839633Z",
     "shell.execute_reply": "2023-10-25T15:39:41.838692Z"
    },
    "papermill": {
     "duration": 0.03454,
     "end_time": "2023-10-25T15:39:41.841837",
     "exception": false,
     "start_time": "2023-10-25T15:39:41.807297",
     "status": "completed"
    },
    "tags": []
   },
   "outputs": [
    {
     "data": {
      "text/html": [
       "<div>\n",
       "<style scoped>\n",
       "    .dataframe tbody tr th:only-of-type {\n",
       "        vertical-align: middle;\n",
       "    }\n",
       "\n",
       "    .dataframe tbody tr th {\n",
       "        vertical-align: top;\n",
       "    }\n",
       "\n",
       "    .dataframe thead th {\n",
       "        text-align: right;\n",
       "    }\n",
       "</style>\n",
       "<table border=\"1\" class=\"dataframe\">\n",
       "  <thead>\n",
       "    <tr style=\"text-align: right;\">\n",
       "      <th></th>\n",
       "      <th>lesion_id</th>\n",
       "      <th>image_id</th>\n",
       "      <th>dx</th>\n",
       "      <th>dx_type</th>\n",
       "      <th>age</th>\n",
       "      <th>sex</th>\n",
       "      <th>localization</th>\n",
       "      <th>path</th>\n",
       "      <th>cell_type</th>\n",
       "      <th>cell_type_idx</th>\n",
       "    </tr>\n",
       "  </thead>\n",
       "  <tbody>\n",
       "    <tr>\n",
       "      <th>0</th>\n",
       "      <td>HAM_0000118</td>\n",
       "      <td>ISIC_0027419</td>\n",
       "      <td>bkl</td>\n",
       "      <td>histo</td>\n",
       "      <td>80.0</td>\n",
       "      <td>male</td>\n",
       "      <td>scalp</td>\n",
       "      <td>../input/skin-cancer-mnist-ham10000/ham10000_i...</td>\n",
       "      <td>Benign keratosis-like lesions</td>\n",
       "      <td>2</td>\n",
       "    </tr>\n",
       "    <tr>\n",
       "      <th>1</th>\n",
       "      <td>HAM_0000118</td>\n",
       "      <td>ISIC_0025030</td>\n",
       "      <td>bkl</td>\n",
       "      <td>histo</td>\n",
       "      <td>80.0</td>\n",
       "      <td>male</td>\n",
       "      <td>scalp</td>\n",
       "      <td>../input/skin-cancer-mnist-ham10000/ham10000_i...</td>\n",
       "      <td>Benign keratosis-like lesions</td>\n",
       "      <td>2</td>\n",
       "    </tr>\n",
       "  </tbody>\n",
       "</table>\n",
       "</div>"
      ],
      "text/plain": [
       "     lesion_id      image_id   dx dx_type   age   sex localization  \\\n",
       "0  HAM_0000118  ISIC_0027419  bkl   histo  80.0  male        scalp   \n",
       "1  HAM_0000118  ISIC_0025030  bkl   histo  80.0  male        scalp   \n",
       "\n",
       "                                                path  \\\n",
       "0  ../input/skin-cancer-mnist-ham10000/ham10000_i...   \n",
       "1  ../input/skin-cancer-mnist-ham10000/ham10000_i...   \n",
       "\n",
       "                        cell_type  cell_type_idx  \n",
       "0  Benign keratosis-like lesions               2  \n",
       "1  Benign keratosis-like lesions               2  "
      ]
     },
     "execution_count": 10,
     "metadata": {},
     "output_type": "execute_result"
    }
   ],
   "source": [
    "df['cell_type_idx'] = pd.Categorical(df['cell_type']).codes\n",
    "df.head(2)"
   ]
  },
  {
   "cell_type": "code",
   "execution_count": 11,
   "id": "93012abf",
   "metadata": {
    "execution": {
     "iopub.execute_input": "2023-10-25T15:39:41.865489Z",
     "iopub.status.busy": "2023-10-25T15:39:41.864840Z",
     "iopub.status.idle": "2023-10-25T15:42:50.800876Z",
     "shell.execute_reply": "2023-10-25T15:42:50.799923Z"
    },
    "papermill": {
     "duration": 188.950844,
     "end_time": "2023-10-25T15:42:50.803606",
     "exception": false,
     "start_time": "2023-10-25T15:39:41.852762",
     "status": "completed"
    },
    "tags": []
   },
   "outputs": [],
   "source": [
    "from keras.preprocessing.image import img_to_array, array_to_img\n",
    "df['image'] = df['path'].map(lambda x: img_to_array(cv.resize(cv.imread(x),(100,100),interpolation = cv.INTER_AREA)))"
   ]
  },
  {
   "cell_type": "code",
   "execution_count": 12,
   "id": "a8b818ad",
   "metadata": {
    "execution": {
     "iopub.execute_input": "2023-10-25T15:42:50.827168Z",
     "iopub.status.busy": "2023-10-25T15:42:50.826794Z",
     "iopub.status.idle": "2023-10-25T15:42:50.833496Z",
     "shell.execute_reply": "2023-10-25T15:42:50.832628Z"
    },
    "papermill": {
     "duration": 0.020731,
     "end_time": "2023-10-25T15:42:50.835598",
     "exception": false,
     "start_time": "2023-10-25T15:42:50.814867",
     "status": "completed"
    },
    "tags": []
   },
   "outputs": [
    {
     "data": {
      "text/plain": [
       "Index(['lesion_id', 'image_id', 'dx', 'dx_type', 'age', 'sex', 'localization',\n",
       "       'path', 'cell_type', 'cell_type_idx', 'image'],\n",
       "      dtype='object')"
      ]
     },
     "execution_count": 12,
     "metadata": {},
     "output_type": "execute_result"
    }
   ],
   "source": [
    "df.columns"
   ]
  },
  {
   "cell_type": "code",
   "execution_count": 13,
   "id": "e507009a",
   "metadata": {
    "execution": {
     "iopub.execute_input": "2023-10-25T15:42:50.858727Z",
     "iopub.status.busy": "2023-10-25T15:42:50.858406Z",
     "iopub.status.idle": "2023-10-25T15:42:51.149345Z",
     "shell.execute_reply": "2023-10-25T15:42:51.148350Z"
    },
    "papermill": {
     "duration": 0.305322,
     "end_time": "2023-10-25T15:42:51.151822",
     "exception": false,
     "start_time": "2023-10-25T15:42:50.846500",
     "status": "completed"
    },
    "tags": []
   },
   "outputs": [
    {
     "data": {
      "text/plain": [
       "<AxesSubplot:>"
      ]
     },
     "execution_count": 13,
     "metadata": {},
     "output_type": "execute_result"
    },
    {
     "data": {
      "image/png": "[encoded data removed]",
      "text/plain": [
       "<Figure size 720x360 with 1 Axes>"
      ]
     },
     "metadata": {
      "needs_background": "light"
     },
     "output_type": "display_data"
    }
   ],
   "source": [
    "fig, ax1 = plt.subplots(1, 1, figsize = (10, 5))\n",
    "df['cell_type'].value_counts().plot(kind='bar', ax=ax1)"
   ]
  },
  {
   "cell_type": "code",
   "execution_count": 14,
   "id": "06df4dc0",
   "metadata": {
    "execution": {
     "iopub.execute_input": "2023-10-25T15:42:51.176370Z",
     "iopub.status.busy": "2023-10-25T15:42:51.175597Z",
     "iopub.status.idle": "2023-10-25T15:42:51.183500Z",
     "shell.execute_reply": "2023-10-25T15:42:51.182681Z"
    },
    "papermill": {
     "duration": 0.022124,
     "end_time": "2023-10-25T15:42:51.185491",
     "exception": false,
     "start_time": "2023-10-25T15:42:51.163367",
     "status": "completed"
    },
    "tags": []
   },
   "outputs": [],
   "source": [
    "df2=df[[\"image\",\"cell_type_idx\"]]"
   ]
  },
  {
   "cell_type": "code",
   "execution_count": 15,
   "id": "5d2b9e53",
   "metadata": {
    "execution": {
     "iopub.execute_input": "2023-10-25T15:42:51.209595Z",
     "iopub.status.busy": "2023-10-25T15:42:51.209274Z",
     "iopub.status.idle": "2023-10-25T15:42:51.214207Z",
     "shell.execute_reply": "2023-10-25T15:42:51.213312Z"
    },
    "papermill": {
     "duration": 0.019127,
     "end_time": "2023-10-25T15:42:51.216295",
     "exception": false,
     "start_time": "2023-10-25T15:42:51.197168",
     "status": "completed"
    },
    "tags": []
   },
   "outputs": [],
   "source": [
    "X=df2[\"image\"]\n",
    "Y=df2[\"cell_type_idx\"]"
   ]
  },
  {
   "cell_type": "code",
   "execution_count": 16,
   "id": "91e3954b",
   "metadata": {
    "execution": {
     "iopub.execute_input": "2023-10-25T15:42:51.240195Z",
     "iopub.status.busy": "2023-10-25T15:42:51.239868Z",
     "iopub.status.idle": "2023-10-25T15:42:51.402436Z",
     "shell.execute_reply": "2023-10-25T15:42:51.401556Z"
    },
    "papermill": {
     "duration": 0.177152,
     "end_time": "2023-10-25T15:42:51.404881",
     "exception": false,
     "start_time": "2023-10-25T15:42:51.227729",
     "status": "completed"
    },
    "tags": []
   },
   "outputs": [],
   "source": [
    "from sklearn.model_selection import train_test_split\n",
    "x_train, x_test, y_train, y_test = train_test_split(X, Y, test_size=0.2, random_state = 0) "
   ]
  },
  {
   "cell_type": "code",
   "execution_count": 17,
   "id": "481fcc0c",
   "metadata": {
    "execution": {
     "iopub.execute_input": "2023-10-25T15:42:51.429317Z",
     "iopub.status.busy": "2023-10-25T15:42:51.428947Z",
     "iopub.status.idle": "2023-10-25T15:42:51.808460Z",
     "shell.execute_reply": "2023-10-25T15:42:51.807587Z"
    },
    "papermill": {
     "duration": 0.394355,
     "end_time": "2023-10-25T15:42:51.810992",
     "exception": false,
     "start_time": "2023-10-25T15:42:51.416637",
     "status": "completed"
    },
    "tags": []
   },
   "outputs": [],
   "source": [
    "x_train = np.asarray(x_train.tolist())\n",
    "x_test = np.asarray(x_test.tolist())"
   ]
  },
  {
   "cell_type": "code",
   "execution_count": 18,
   "id": "8b5b0ddf",
   "metadata": {
    "execution": {
     "iopub.execute_input": "2023-10-25T15:42:51.835400Z",
     "iopub.status.busy": "2023-10-25T15:42:51.835050Z",
     "iopub.status.idle": "2023-10-25T15:42:51.840500Z",
     "shell.execute_reply": "2023-10-25T15:42:51.839677Z"
    },
    "papermill": {
     "duration": 0.020095,
     "end_time": "2023-10-25T15:42:51.842610",
     "exception": false,
     "start_time": "2023-10-25T15:42:51.822515",
     "status": "completed"
    },
    "tags": []
   },
   "outputs": [],
   "source": [
    "y_train = to_categorical(y_train, num_classes = 7)\n",
    "y_test = to_categorical(y_test, num_classes = 7)"
   ]
  },
  {
   "cell_type": "code",
   "execution_count": 19,
   "id": "d558662f",
   "metadata": {
    "execution": {
     "iopub.execute_input": "2023-10-25T15:42:51.866317Z",
     "iopub.status.busy": "2023-10-25T15:42:51.865971Z",
     "iopub.status.idle": "2023-10-25T15:42:52.152391Z",
     "shell.execute_reply": "2023-10-25T15:42:52.151450Z"
    },
    "papermill": {
     "duration": 0.301009,
     "end_time": "2023-10-25T15:42:52.154807",
     "exception": false,
     "start_time": "2023-10-25T15:42:51.853798",
     "status": "completed"
    },
    "tags": []
   },
   "outputs": [],
   "source": [
    "x_train, x_validate, y_train, y_validate = train_test_split(x_train, y_train, test_size = 0.1, random_state = 2)"
   ]
  },
  {
   "cell_type": "markdown",
   "id": "0de5482f",
   "metadata": {
    "papermill": {
     "duration": 0.010919,
     "end_time": "2023-10-25T15:42:52.177173",
     "exception": false,
     "start_time": "2023-10-25T15:42:52.166254",
     "status": "completed"
    },
    "tags": []
   },
   "source": [
    "# VIT MODEL"
   ]
  },
  {
   "cell_type": "code",
   "execution_count": 20,
   "id": "fefcfbe5",
   "metadata": {
    "execution": {
     "iopub.execute_input": "2023-10-25T15:42:52.200890Z",
     "iopub.status.busy": "2023-10-25T15:42:52.200553Z",
     "iopub.status.idle": "2023-10-25T15:42:52.329070Z",
     "shell.execute_reply": "2023-10-25T15:42:52.328342Z"
    },
    "papermill": {
     "duration": 0.143167,
     "end_time": "2023-10-25T15:42:52.331386",
     "exception": false,
     "start_time": "2023-10-25T15:42:52.188219",
     "status": "completed"
    },
    "tags": []
   },
   "outputs": [],
   "source": [
    "import tensorflow as tf\n",
    "import tensorflow.keras.layers as L\n",
    "import tensorflow_addons as tfa\n",
    "from keras.models import Sequential\n",
    "from keras.layers import Dense, Dropout, Flatten, Conv2D, MaxPool2D\n",
    "from keras.preprocessing.image import ImageDataGenerator\n",
    "from keras.callbacks import ReduceLROnPlateau\n",
    "from sklearn.metrics import confusion_matrix, classification_report"
   ]
  },
  {
   "cell_type": "code",
   "execution_count": 21,
   "id": "4109eb85",
   "metadata": {
    "execution": {
     "iopub.execute_input": "2023-10-25T15:42:52.354851Z",
     "iopub.status.busy": "2023-10-25T15:42:52.354580Z",
     "iopub.status.idle": "2023-10-25T15:42:52.360594Z",
     "shell.execute_reply": "2023-10-25T15:42:52.359659Z"
    },
    "papermill": {
     "duration": 0.020113,
     "end_time": "2023-10-25T15:42:52.362748",
     "exception": false,
     "start_time": "2023-10-25T15:42:52.342635",
     "status": "completed"
    },
    "tags": []
   },
   "outputs": [],
   "source": [
    "learning_rate = 0.001\n",
    "weight_decay = 0.0001\n",
    "num_epochs = 1\n",
    "image_size=100\n",
    "patch_size = 7  # Size of the patches to be extract from the input images\n",
    "num_patches = (100 // patch_size) ** 2\n",
    "projection_dim = 64\n",
    "num_heads = 4\n",
    "transformer_units = [\n",
    "    projection_dim * 2,\n",
    "    projection_dim,\n",
    "]  # Size of the transformer layers\n",
    "transformer_layers = 8\n",
    "mlp_head_units = [56, 28]  # Size of the dense layers of the final classifier"
   ]
  },
  {
   "cell_type": "code",
   "execution_count": 22,
   "id": "3cd67484",
   "metadata": {
    "execution": {
     "iopub.execute_input": "2023-10-25T15:42:52.386140Z",
     "iopub.status.busy": "2023-10-25T15:42:52.385538Z",
     "iopub.status.idle": "2023-10-25T15:42:52.390555Z",
     "shell.execute_reply": "2023-10-25T15:42:52.389685Z"
    },
    "papermill": {
     "duration": 0.018858,
     "end_time": "2023-10-25T15:42:52.392603",
     "exception": false,
     "start_time": "2023-10-25T15:42:52.373745",
     "status": "completed"
    },
    "tags": []
   },
   "outputs": [],
   "source": [
    "def mlp(x, hidden_units, dropout_rate):\n",
    "    for units in hidden_units:\n",
    "        x = L.Dense(units, activation = tf.nn.gelu)(x)\n",
    "        x = L.Dropout(dropout_rate)(x)\n",
    "    return x"
   ]
  },
  {
   "cell_type": "code",
   "execution_count": 23,
   "id": "63b1bb1c",
   "metadata": {
    "execution": {
     "iopub.execute_input": "2023-10-25T15:42:52.415533Z",
     "iopub.status.busy": "2023-10-25T15:42:52.415266Z",
     "iopub.status.idle": "2023-10-25T15:42:52.422920Z",
     "shell.execute_reply": "2023-10-25T15:42:52.422056Z"
    },
    "papermill": {
     "duration": 0.021362,
     "end_time": "2023-10-25T15:42:52.424927",
     "exception": false,
     "start_time": "2023-10-25T15:42:52.403565",
     "status": "completed"
    },
    "tags": []
   },
   "outputs": [],
   "source": [
    "class Patches(L.Layer):\n",
    "    def __init__(self, patch_size):\n",
    "        super(Patches, self).__init__()\n",
    "        self.patch_size = patch_size\n",
    "\n",
    "    def call(self, images):\n",
    "        batch_size = tf.shape(images)[0]\n",
    "        patches = tf.image.extract_patches(\n",
    "            images = images,\n",
    "            sizes = [1, self.patch_size, self.patch_size, 1],\n",
    "            strides = [1, self.patch_size, self.patch_size, 1],\n",
    "            rates = [1, 1, 1, 1],\n",
    "            padding = 'VALID',\n",
    "        )\n",
    "        patch_dims = patches.shape[-1]\n",
    "        patches = tf.reshape(patches, [batch_size, -1, patch_dims])\n",
    "        return patches"
   ]
  },
  {
   "cell_type": "code",
   "execution_count": 24,
   "id": "d9e1c45d",
   "metadata": {
    "execution": {
     "iopub.execute_input": "2023-10-25T15:42:52.447942Z",
     "iopub.status.busy": "2023-10-25T15:42:52.447689Z",
     "iopub.status.idle": "2023-10-25T15:42:52.454790Z",
     "shell.execute_reply": "2023-10-25T15:42:52.453888Z"
    },
    "papermill": {
     "duration": 0.020826,
     "end_time": "2023-10-25T15:42:52.456793",
     "exception": false,
     "start_time": "2023-10-25T15:42:52.435967",
     "status": "completed"
    },
    "tags": []
   },
   "outputs": [],
   "source": [
    "class PatchEncoder(L.Layer):\n",
    "    def __init__(self, num_patches, projection_dim):\n",
    "        super(PatchEncoder, self).__init__()\n",
    "        self.num_patches = num_patches\n",
    "        self.projection = L.Dense(units = projection_dim)\n",
    "        self.position_embedding = L.Embedding(\n",
    "            input_dim = num_patches, output_dim = projection_dim\n",
    "        )\n",
    "\n",
    "    def call(self, patch):\n",
    "        positions = tf.range(start = 0, limit = self.num_patches, delta = 1)\n",
    "        encoded = self.projection(patch) + self.position_embedding(positions)\n",
    "        return encoded"
   ]
  },
  {
   "cell_type": "code",
   "execution_count": 25,
   "id": "31289992",
   "metadata": {
    "execution": {
     "iopub.execute_input": "2023-10-25T15:42:52.479859Z",
     "iopub.status.busy": "2023-10-25T15:42:52.479583Z",
     "iopub.status.idle": "2023-10-25T15:42:52.490160Z",
     "shell.execute_reply": "2023-10-25T15:42:52.489224Z"
    },
    "papermill": {
     "duration": 0.024523,
     "end_time": "2023-10-25T15:42:52.492370",
     "exception": false,
     "start_time": "2023-10-25T15:42:52.467847",
     "status": "completed"
    },
    "tags": []
   },
   "outputs": [],
   "source": [
    "def vision_transformer():\n",
    "    inputs = L.Input(shape = (image_size, image_size, 3))\n",
    "    \n",
    "    # Create patches.\n",
    "    patches = Patches(patch_size)(inputs)\n",
    "    \n",
    "    # Encode patches.\n",
    "    encoded_patches = PatchEncoder(num_patches, projection_dim)(patches)\n",
    "\n",
    "    # Create multiple layers of the Transformer block.\n",
    "    for _ in range(transformer_layers):\n",
    "        \n",
    "        # Layer normalization 1.\n",
    "        x1 = L.LayerNormalization(epsilon = 1e-6)(encoded_patches)\n",
    "        \n",
    "        # Create a multi-head attention layer.\n",
    "        attention_output = L.MultiHeadAttention(\n",
    "            num_heads = num_heads, key_dim = projection_dim, dropout = 0.1\n",
    "        )(x1, x1)\n",
    "        \n",
    "        # Skip connection 1.\n",
    "        x2 = L.Add()([attention_output, encoded_patches])\n",
    "        x3 = L.LayerNormalization(epsilon = 1e-6)(x2)\n",
    "        \n",
    "        # MLP.\n",
    "        x3 = mlp(x3, hidden_units = transformer_units, dropout_rate = 0.1)\n",
    "        \n",
    "        # Skip connection 2.\n",
    "        encoded_patches = L.Add()([x3, x2])\n",
    "\n",
    "    # Create a [batch_size, projection_dim] tensor.\n",
    "    representation = L.LayerNormalization(epsilon = 1e-6)(encoded_patches)\n",
    "    representation = L.Flatten()(representation)\n",
    "    representation = L.Dropout(0.5)(representation)\n",
    "    \n",
    "    # Add MLP.\n",
    "    features = mlp(representation, hidden_units = mlp_head_units, dropout_rate = 0.5)\n",
    "    \n",
    "    # Classify outputs.\n",
    "    logits = L.Dense(7)(features)\n",
    "    \n",
    "    # Create the model.\n",
    "    model = tf.keras.Model(inputs = inputs, outputs = logits)\n",
    "    \n",
    "    return model"
   ]
  },
  {
   "cell_type": "code",
   "execution_count": 26,
   "id": "176a1f0b",
   "metadata": {
    "execution": {
     "iopub.execute_input": "2023-10-25T15:42:52.515579Z",
     "iopub.status.busy": "2023-10-25T15:42:52.515295Z",
     "iopub.status.idle": "2023-10-25T15:42:52.520669Z",
     "shell.execute_reply": "2023-10-25T15:42:52.519770Z"
    },
    "papermill": {
     "duration": 0.019222,
     "end_time": "2023-10-25T15:42:52.522705",
     "exception": false,
     "start_time": "2023-10-25T15:42:52.503483",
     "status": "completed"
    },
    "tags": []
   },
   "outputs": [],
   "source": [
    "datagen = ImageDataGenerator(\n",
    "        featurewise_center=False,\n",
    "        samplewise_center=False,\n",
    "        featurewise_std_normalization=False,\n",
    "        samplewise_std_normalization=False,\n",
    "        zca_whitening=False,\n",
    "        rotation_range=10,\n",
    "        zoom_range = 0.1,\n",
    "        width_shift_range=0.1,\n",
    "        height_shift_range=0.1,\n",
    "        horizontal_flip=False,\n",
    "        vertical_flip=False)"
   ]
  },
  {
   "cell_type": "code",
   "execution_count": 27,
   "id": "f10e31da",
   "metadata": {
    "execution": {
     "iopub.execute_input": "2023-10-25T15:42:52.545894Z",
     "iopub.status.busy": "2023-10-25T15:42:52.545620Z",
     "iopub.status.idle": "2023-10-25T15:42:52.556520Z",
     "shell.execute_reply": "2023-10-25T15:42:52.555646Z"
    },
    "papermill": {
     "duration": 0.024925,
     "end_time": "2023-10-25T15:42:52.558626",
     "exception": false,
     "start_time": "2023-10-25T15:42:52.533701",
     "status": "completed"
    },
    "tags": []
   },
   "outputs": [],
   "source": [
    "optimizer = tf.keras.optimizers.Adam(learning_rate = learning_rate)"
   ]
  },
  {
   "cell_type": "code",
   "execution_count": 28,
   "id": "1b9df064",
   "metadata": {
    "execution": {
     "iopub.execute_input": "2023-10-25T15:42:52.581737Z",
     "iopub.status.busy": "2023-10-25T15:42:52.581447Z",
     "iopub.status.idle": "2023-10-25T15:42:56.579253Z",
     "shell.execute_reply": "2023-10-25T15:42:56.578356Z"
    },
    "papermill": {
     "duration": 4.012218,
     "end_time": "2023-10-25T15:42:56.581877",
     "exception": false,
     "start_time": "2023-10-25T15:42:52.569659",
     "status": "completed"
    },
    "tags": []
   },
   "outputs": [],
   "source": [
    "model = vision_transformer()\n",
    "    \n",
    "model.compile(optimizer = optimizer, \n",
    "              loss = tf.keras.losses.CategoricalCrossentropy(label_smoothing = 0.1), \n",
    "              metrics = ['accuracy'])"
   ]
  },
  {
   "cell_type": "code",
   "execution_count": 29,
   "id": "e937791d",
   "metadata": {
    "execution": {
     "iopub.execute_input": "2023-10-25T15:42:56.606495Z",
     "iopub.status.busy": "2023-10-25T15:42:56.606113Z",
     "iopub.status.idle": "2023-10-25T15:59:12.468350Z",
     "shell.execute_reply": "2023-10-25T15:59:12.467072Z"
    },
    "papermill": {
     "duration": 975.877369,
     "end_time": "2023-10-25T15:59:12.470971",
     "exception": false,
     "start_time": "2023-10-25T15:42:56.593602",
     "status": "completed"
    },
    "tags": []
   },
   "outputs": [
    {
     "name": "stdout",
     "output_type": "stream",
     "text": [
      "Epoch 1/50\n",
      "226/226 [==============================] - 32s 93ms/step - loss: 5.4904 - accuracy: 0.2380 - val_loss: 11.3124 - val_accuracy: 0.6633\n",
      "Epoch 2/50\n",
      "226/226 [==============================] - 20s 86ms/step - loss: 5.9912 - accuracy: 0.1025 - val_loss: 1.7962 - val_accuracy: 0.0125\n",
      "Epoch 3/50\n",
      "226/226 [==============================] - 20s 86ms/step - loss: 5.9103 - accuracy: 0.1180 - val_loss: 3.5799 - val_accuracy: 0.0125\n",
      "Epoch 4/50\n",
      "226/226 [==============================] - 20s 87ms/step - loss: 6.2143 - accuracy: 0.1402 - val_loss: 13.0794 - val_accuracy: 0.1209\n",
      "Epoch 5/50\n",
      "226/226 [==============================] - 20s 87ms/step - loss: 4.9061 - accuracy: 0.1287 - val_loss: 3.5797 - val_accuracy: 0.0100\n",
      "Epoch 6/50\n",
      "226/226 [==============================] - 20s 87ms/step - loss: 4.3193 - accuracy: 0.1252 - val_loss: 1.4192 - val_accuracy: 0.0100\n",
      "Epoch 7/50\n",
      "226/226 [==============================] - 20s 86ms/step - loss: 5.4562 - accuracy: 0.1122 - val_loss: 0.7861 - val_accuracy: 0.0125\n",
      "Epoch 8/50\n",
      "226/226 [==============================] - 19s 86ms/step - loss: 6.2354 - accuracy: 0.0761 - val_loss: 11.9505 - val_accuracy: 0.0125\n",
      "Epoch 9/50\n",
      "226/226 [==============================] - 20s 87ms/step - loss: 7.1826 - accuracy: 0.0680 - val_loss: 1.5952 - val_accuracy: 0.0125\n",
      "Epoch 10/50\n",
      "226/226 [==============================] - 20s 87ms/step - loss: 6.2836 - accuracy: 0.0663 - val_loss: 1.5952 - val_accuracy: 0.0125\n",
      "Epoch 11/50\n",
      "226/226 [==============================] - 19s 86ms/step - loss: 4.6613 - accuracy: 0.0372 - val_loss: 1.5952 - val_accuracy: 0.0125\n",
      "Epoch 12/50\n",
      "226/226 [==============================] - 20s 87ms/step - loss: 4.7593 - accuracy: 0.0322 - val_loss: 1.5952 - val_accuracy: 0.0125\n",
      "Epoch 13/50\n",
      "226/226 [==============================] - 19s 84ms/step - loss: 6.6104 - accuracy: 0.0333 - val_loss: 14.5229 - val_accuracy: 0.0125\n",
      "Epoch 14/50\n",
      "226/226 [==============================] - 19s 83ms/step - loss: 8.4251 - accuracy: 0.0384 - val_loss: 14.5229 - val_accuracy: 0.0125\n",
      "Epoch 15/50\n",
      "226/226 [==============================] - 19s 84ms/step - loss: 6.8289 - accuracy: 0.0318 - val_loss: 1.5952 - val_accuracy: 0.0125\n",
      "Epoch 16/50\n",
      "226/226 [==============================] - 19s 83ms/step - loss: 5.4861 - accuracy: 0.0327 - val_loss: 1.5952 - val_accuracy: 0.0125\n",
      "Epoch 17/50\n",
      "226/226 [==============================] - 19s 84ms/step - loss: 5.5259 - accuracy: 0.0379 - val_loss: 1.5952 - val_accuracy: 0.0125\n",
      "Epoch 18/50\n",
      "226/226 [==============================] - 19s 85ms/step - loss: 3.4953 - accuracy: 0.0297 - val_loss: 1.5952 - val_accuracy: 0.0125\n",
      "Epoch 19/50\n",
      "226/226 [==============================] - 19s 83ms/step - loss: 4.3900 - accuracy: 0.0326 - val_loss: 1.5952 - val_accuracy: 0.0125\n",
      "Epoch 20/50\n",
      "226/226 [==============================] - 19s 84ms/step - loss: 6.8657 - accuracy: 0.0243 - val_loss: 1.5952 - val_accuracy: 0.0125\n",
      "Epoch 21/50\n",
      "226/226 [==============================] - 19s 85ms/step - loss: 7.0742 - accuracy: 0.0304 - val_loss: 1.5952 - val_accuracy: 0.0125\n",
      "Epoch 22/50\n",
      "226/226 [==============================] - 19s 86ms/step - loss: 6.0128 - accuracy: 0.0279 - val_loss: 1.5952 - val_accuracy: 0.0125\n",
      "Epoch 23/50\n",
      "226/226 [==============================] - 19s 85ms/step - loss: 6.9677 - accuracy: 0.0293 - val_loss: 1.5952 - val_accuracy: 0.0125\n",
      "Epoch 24/50\n",
      "226/226 [==============================] - 19s 85ms/step - loss: 5.7906 - accuracy: 0.0254 - val_loss: 14.5229 - val_accuracy: 0.0125\n",
      "Epoch 25/50\n",
      "226/226 [==============================] - 19s 85ms/step - loss: 7.0862 - accuracy: 0.0262 - val_loss: 1.5952 - val_accuracy: 0.0125\n",
      "Epoch 26/50\n",
      "226/226 [==============================] - 19s 85ms/step - loss: 6.8553 - accuracy: 0.0236 - val_loss: 15.3320 - val_accuracy: 0.0125\n",
      "Epoch 27/50\n",
      "226/226 [==============================] - 20s 86ms/step - loss: 9.2790 - accuracy: 0.0225 - val_loss: 15.3320 - val_accuracy: 0.0125\n",
      "Epoch 28/50\n",
      "226/226 [==============================] - 19s 84ms/step - loss: 8.1559 - accuracy: 0.0255 - val_loss: 15.3320 - val_accuracy: 0.0125\n",
      "Epoch 29/50\n",
      "226/226 [==============================] - 19s 85ms/step - loss: 9.1008 - accuracy: 0.0320 - val_loss: 0.7861 - val_accuracy: 0.0125\n",
      "Epoch 30/50\n",
      "226/226 [==============================] - 19s 85ms/step - loss: 7.4550 - accuracy: 0.0327 - val_loss: 15.3320 - val_accuracy: 0.0125\n",
      "Epoch 31/50\n",
      "226/226 [==============================] - 19s 84ms/step - loss: 8.6967 - accuracy: 0.0304 - val_loss: 0.7920 - val_accuracy: 0.0125\n",
      "Epoch 32/50\n",
      "226/226 [==============================] - 19s 83ms/step - loss: 7.1946 - accuracy: 0.0352 - val_loss: 15.3320 - val_accuracy: 0.0125\n",
      "Epoch 33/50\n",
      "226/226 [==============================] - 19s 84ms/step - loss: 7.3990 - accuracy: 0.0362 - val_loss: 15.3320 - val_accuracy: 0.0125\n",
      "Epoch 34/50\n",
      "226/226 [==============================] - 19s 84ms/step - loss: 7.1792 - accuracy: 0.1273 - val_loss: 2.2282 - val_accuracy: 0.1209\n",
      "Epoch 35/50\n",
      "226/226 [==============================] - 19s 84ms/step - loss: 6.5254 - accuracy: 0.1523 - val_loss: 2.6032 - val_accuracy: 0.1209\n",
      "Epoch 36/50\n",
      "226/226 [==============================] - 19s 84ms/step - loss: nan - accuracy: 0.1250 - val_loss: nan - val_accuracy: 0.0399\n",
      "Epoch 37/50\n",
      "226/226 [==============================] - 19s 83ms/step - loss: nan - accuracy: 0.0325 - val_loss: nan - val_accuracy: 0.0399\n",
      "Epoch 38/50\n",
      "226/226 [==============================] - 19s 84ms/step - loss: nan - accuracy: 0.0325 - val_loss: nan - val_accuracy: 0.0399\n",
      "Epoch 39/50\n",
      "226/226 [==============================] - 19s 83ms/step - loss: nan - accuracy: 0.0325 - val_loss: nan - val_accuracy: 0.0399\n",
      "Epoch 40/50\n",
      "226/226 [==============================] - 19s 84ms/step - loss: nan - accuracy: 0.0325 - val_loss: nan - val_accuracy: 0.0399\n",
      "Epoch 41/50\n",
      "226/226 [==============================] - 19s 83ms/step - loss: nan - accuracy: 0.0325 - val_loss: nan - val_accuracy: 0.0399\n",
      "Epoch 42/50\n",
      "226/226 [==============================] - 19s 84ms/step - loss: nan - accuracy: 0.0325 - val_loss: nan - val_accuracy: 0.0399\n",
      "Epoch 43/50\n",
      "226/226 [==============================] - 19s 85ms/step - loss: nan - accuracy: 0.0325 - val_loss: nan - val_accuracy: 0.0399\n",
      "Epoch 44/50\n",
      "226/226 [==============================] - 19s 84ms/step - loss: nan - accuracy: 0.0325 - val_loss: nan - val_accuracy: 0.0399\n",
      "Epoch 45/50\n",
      "226/226 [==============================] - 19s 83ms/step - loss: nan - accuracy: 0.0325 - val_loss: nan - val_accuracy: 0.0399\n",
      "Epoch 46/50\n",
      "226/226 [==============================] - 19s 86ms/step - loss: nan - accuracy: 0.0325 - val_loss: nan - val_accuracy: 0.0399\n",
      "Epoch 47/50\n",
      "226/226 [==============================] - 19s 85ms/step - loss: nan - accuracy: 0.0325 - val_loss: nan - val_accuracy: 0.0399\n",
      "Epoch 48/50\n",
      "226/226 [==============================] - 20s 86ms/step - loss: nan - accuracy: 0.0325 - val_loss: nan - val_accuracy: 0.0399\n",
      "Epoch 49/50\n",
      "226/226 [==============================] - 19s 86ms/step - loss: nan - accuracy: 0.0325 - val_loss: nan - val_accuracy: 0.0399\n",
      "Epoch 50/50\n",
      "226/226 [==============================] - 20s 88ms/step - loss: nan - accuracy: 0.0325 - val_loss: nan - val_accuracy: 0.0399\n"
     ]
    }
   ],
   "source": [
    "epochs = 50 \n",
    "history = model.fit(datagen.flow(x_train,y_train, batch_size=32),\n",
    "                              epochs = epochs, validation_data = (x_validate,y_validate)\n",
    "                              )"
   ]
  },
  {
   "cell_type": "markdown",
   "id": "7ec303ab",
   "metadata": {
    "papermill": {
     "duration": 0.902927,
     "end_time": "2023-10-25T15:59:14.221372",
     "exception": false,
     "start_time": "2023-10-25T15:59:13.318445",
     "status": "completed"
    },
    "tags": []
   },
   "source": [
    "# MobileNet\n"
   ]
  },
  {
   "cell_type": "code",
   "execution_count": 30,
   "id": "b5c52437",
   "metadata": {
    "execution": {
     "iopub.execute_input": "2023-10-25T15:59:15.932372Z",
     "iopub.status.busy": "2023-10-25T15:59:15.928907Z",
     "iopub.status.idle": "2023-10-25T15:59:17.160035Z",
     "shell.execute_reply": "2023-10-25T15:59:17.159156Z"
    },
    "papermill": {
     "duration": 2.087327,
     "end_time": "2023-10-25T15:59:17.162565",
     "exception": false,
     "start_time": "2023-10-25T15:59:15.075238",
     "status": "completed"
    },
    "tags": []
   },
   "outputs": [
    {
     "name": "stdout",
     "output_type": "stream",
     "text": [
      "Downloading data from https://storage.googleapis.com/tensorflow/keras-applications/mobilenet_v2/mobilenet_v2_weights_tf_dim_ordering_tf_kernels_1.0_224_no_top.h5\n",
      "9412608/9406464 [==============================] - 0s 0us/step\n",
      "9420800/9406464 [==============================] - 0s 0us/step\n"
     ]
    }
   ],
   "source": [
    "MobileNetModel = tf.keras.applications.MobileNetV2(\n",
    "    input_shape=(100, 100, 3),\n",
    "     include_top=False, \n",
    "     weights='imagenet',\n",
    "     pooling='avg'\n",
    ")\n",
    "MobileNetModel.trainable = False\n",
    "\n",
    "inputs = MobileNetModel.input\n",
    "\n",
    "x = tf.keras.layers.Dense(512, activation='relu')(MobileNetModel.output)\n",
    "x = tf.keras.layers.Dense(512, activation='relu')(x)\n",
    "\n",
    "outputs = tf.keras.layers.Dense(7, activation='softmax')(x)\n",
    "\n",
    "model_1 = tf.keras.Model(inputs=inputs, outputs=outputs)"
   ]
  },
  {
   "cell_type": "code",
   "execution_count": 31,
   "id": "c34a9e2b",
   "metadata": {
    "execution": {
     "iopub.execute_input": "2023-10-25T15:59:18.925910Z",
     "iopub.status.busy": "2023-10-25T15:59:18.925079Z",
     "iopub.status.idle": "2023-10-25T15:59:18.939963Z",
     "shell.execute_reply": "2023-10-25T15:59:18.939062Z"
    },
    "papermill": {
     "duration": 0.875341,
     "end_time": "2023-10-25T15:59:18.942305",
     "exception": false,
     "start_time": "2023-10-25T15:59:18.066964",
     "status": "completed"
    },
    "tags": []
   },
   "outputs": [],
   "source": [
    "# Initialize ImageDataGenerator for data augmentation\n",
    "train_datagen = ImageDataGenerator(\n",
    "    horizontal_flip=True,\n",
    "    preprocessing_function=tf.keras.applications.mobilenet.preprocess_input\n",
    ")\n",
    "\n",
    "# Compile the model\n",
    "model_1.compile(\n",
    "    optimizer=tf.keras.optimizers.Adam(learning_rate=0.0005),\n",
    "    loss='categorical_crossentropy',\n",
    "    metrics=['accuracy']\n",
    ")\n",
    "\n",
    "# Create data generators for training and validation data\n",
    "x_train_gen = train_datagen.flow(x_train, y_train, batch_size=16)\n",
    "val_data = train_datagen.flow(x_validate, y_validate, batch_size=16)"
   ]
  },
  {
   "cell_type": "code",
   "execution_count": 32,
   "id": "3833bd51",
   "metadata": {
    "execution": {
     "iopub.execute_input": "2023-10-25T15:59:20.689999Z",
     "iopub.status.busy": "2023-10-25T15:59:20.689612Z",
     "iopub.status.idle": "2023-10-25T16:01:44.792444Z",
     "shell.execute_reply": "2023-10-25T16:01:44.791469Z"
    },
    "papermill": {
     "duration": 144.955401,
     "end_time": "2023-10-25T16:01:44.794725",
     "exception": false,
     "start_time": "2023-10-25T15:59:19.839324",
     "status": "completed"
    },
    "tags": []
   },
   "outputs": [
    {
     "name": "stdout",
     "output_type": "stream",
     "text": [
      "Epoch 1/25\n",
      "451/451 [==============================] - 14s 14ms/step - loss: 0.8746 - accuracy: 0.7065 - val_loss: 0.7685 - val_accuracy: 0.7244\n",
      "Epoch 2/25\n",
      "451/451 [==============================] - 5s 12ms/step - loss: 0.7110 - accuracy: 0.7420 - val_loss: 0.7832 - val_accuracy: 0.7294\n",
      "Epoch 3/25\n",
      "451/451 [==============================] - 5s 12ms/step - loss: 0.6370 - accuracy: 0.7664 - val_loss: 0.8014 - val_accuracy: 0.7232\n",
      "Epoch 4/25\n",
      "451/451 [==============================] - 5s 12ms/step - loss: 0.5829 - accuracy: 0.7871 - val_loss: 0.7692 - val_accuracy: 0.7232\n",
      "Epoch 5/25\n",
      "451/451 [==============================] - 6s 13ms/step - loss: 0.5298 - accuracy: 0.7999 - val_loss: 0.8242 - val_accuracy: 0.7219\n",
      "Epoch 6/25\n",
      "451/451 [==============================] - 5s 12ms/step - loss: 0.4869 - accuracy: 0.8209 - val_loss: 0.8335 - val_accuracy: 0.7357\n",
      "Epoch 7/25\n",
      "451/451 [==============================] - 5s 12ms/step - loss: 0.4428 - accuracy: 0.8350 - val_loss: 0.8483 - val_accuracy: 0.7282\n",
      "Epoch 8/25\n",
      "451/451 [==============================] - 5s 12ms/step - loss: 0.3971 - accuracy: 0.8562 - val_loss: 0.8357 - val_accuracy: 0.7107\n",
      "Epoch 9/25\n",
      "451/451 [==============================] - 5s 12ms/step - loss: 0.3656 - accuracy: 0.8682 - val_loss: 0.9333 - val_accuracy: 0.7357\n",
      "Epoch 10/25\n",
      "451/451 [==============================] - 5s 12ms/step - loss: 0.3278 - accuracy: 0.8791 - val_loss: 0.9240 - val_accuracy: 0.7481\n",
      "Epoch 11/25\n",
      "451/451 [==============================] - 6s 12ms/step - loss: 0.3014 - accuracy: 0.8915 - val_loss: 1.0872 - val_accuracy: 0.7344\n",
      "Epoch 12/25\n",
      "451/451 [==============================] - 5s 12ms/step - loss: 0.2688 - accuracy: 0.9021 - val_loss: 1.2383 - val_accuracy: 0.7294\n",
      "Epoch 13/25\n",
      "451/451 [==============================] - 5s 12ms/step - loss: 0.2259 - accuracy: 0.9169 - val_loss: 1.2305 - val_accuracy: 0.7419\n",
      "Epoch 14/25\n",
      "451/451 [==============================] - 5s 12ms/step - loss: 0.2222 - accuracy: 0.9171 - val_loss: 1.1774 - val_accuracy: 0.7382\n",
      "Epoch 15/25\n",
      "451/451 [==============================] - 5s 12ms/step - loss: 0.2027 - accuracy: 0.9261 - val_loss: 1.2616 - val_accuracy: 0.6958\n",
      "Epoch 16/25\n",
      "451/451 [==============================] - 5s 12ms/step - loss: 0.1825 - accuracy: 0.9304 - val_loss: 1.2559 - val_accuracy: 0.7132\n",
      "Epoch 17/25\n",
      "451/451 [==============================] - 6s 12ms/step - loss: 0.1569 - accuracy: 0.9440 - val_loss: 1.4368 - val_accuracy: 0.7257\n",
      "Epoch 18/25\n",
      "451/451 [==============================] - 5s 12ms/step - loss: 0.1458 - accuracy: 0.9473 - val_loss: 1.4377 - val_accuracy: 0.7145\n",
      "Epoch 19/25\n",
      "451/451 [==============================] - 5s 12ms/step - loss: 0.1384 - accuracy: 0.9506 - val_loss: 1.4122 - val_accuracy: 0.7057\n",
      "Epoch 20/25\n",
      "451/451 [==============================] - 5s 12ms/step - loss: 0.1162 - accuracy: 0.9566 - val_loss: 1.5555 - val_accuracy: 0.6995\n",
      "Epoch 21/25\n",
      "451/451 [==============================] - 5s 12ms/step - loss: 0.1071 - accuracy: 0.9648 - val_loss: 1.5927 - val_accuracy: 0.7145\n",
      "Epoch 22/25\n",
      "451/451 [==============================] - 6s 12ms/step - loss: 0.0817 - accuracy: 0.9693 - val_loss: 1.8184 - val_accuracy: 0.7207\n",
      "Epoch 23/25\n",
      "451/451 [==============================] - 6s 12ms/step - loss: 0.1194 - accuracy: 0.9596 - val_loss: 1.5881 - val_accuracy: 0.7369\n",
      "Epoch 24/25\n",
      "451/451 [==============================] - 5s 12ms/step - loss: 0.0967 - accuracy: 0.9650 - val_loss: 1.8158 - val_accuracy: 0.7157\n",
      "Epoch 25/25\n",
      "451/451 [==============================] - 5s 12ms/step - loss: 0.0834 - accuracy: 0.9716 - val_loss: 1.8338 - val_accuracy: 0.7294\n"
     ]
    }
   ],
   "source": [
    "# Train the model and store the training history\n",
    "history_1 = model_1.fit(\n",
    "    x_train_gen,\n",
    "    epochs=25,\n",
    "    validation_data=val_data,\n",
    "    batch_size=32  # Batch size should match the batch size in the data generator\n",
    ")"
   ]
  },
  {
   "cell_type": "code",
   "execution_count": 33,
   "id": "d33ce54d",
   "metadata": {
    "execution": {
     "iopub.execute_input": "2023-10-25T16:01:46.929860Z",
     "iopub.status.busy": "2023-10-25T16:01:46.928918Z",
     "iopub.status.idle": "2023-10-25T16:01:47.161852Z",
     "shell.execute_reply": "2023-10-25T16:01:47.160901Z"
    },
    "papermill": {
     "duration": 1.303729,
     "end_time": "2023-10-25T16:01:47.163927",
     "exception": false,
     "start_time": "2023-10-25T16:01:45.860198",
     "status": "completed"
    },
    "tags": []
   },
   "outputs": [
    {
     "data": {
      "image/png": "[encoded data removed]",
      "text/plain": [
       "<Figure size 720x432 with 1 Axes>"
      ]
     },
     "metadata": {
      "needs_background": "light"
     },
     "output_type": "display_data"
    }
   ],
   "source": [
    "# Plot training and validation accuracy\n",
    "train_accuracy = history_1.history['accuracy']\n",
    "val_accuracy = history_1.history['val_accuracy']\n",
    "epochs = range(1, len(train_accuracy) + 1)\n",
    "\n",
    "plt.figure(figsize=(10, 6))\n",
    "plt.plot(epochs, train_accuracy, 'b', label='Training accuracy')\n",
    "plt.plot(epochs, val_accuracy, 'b', label='Validation accuracy')\n",
    "plt.title('Training and Validation Accuracy')\n",
    "plt.xlabel('Epochs')\n",
    "plt.ylabel('Accuracy')\n",
    "plt.legend()\n",
    "plt.show()"
   ]
  }
 ],
 "metadata": {
  "kernelspec": {
   "display_name": "Python 3",
   "language": "python",
   "name": "python3"
  },
  "language_info": {
   "codemirror_mode": {
    "name": "ipython",
    "version": 3
   },
   "file_extension": ".py",
   "mimetype": "text/x-python",
   "name": "python",
   "nbconvert_exporter": "python",
   "pygments_lexer": "ipython3",
   "version": "3.7.12"
  },
  "papermill": {
   "default_parameters": {},
   "duration": 1347.323242,
   "end_time": "2023-10-25T16:01:51.939969",
   "environment_variables": {},
   "exception": null,
   "input_path": "__notebook__.ipynb",
   "output_path": "__notebook__.ipynb",
   "parameters": {},
   "start_time": "2023-10-25T15:39:24.616727",
   "version": "2.3.4"
  }
 },
 "nbformat": 4,
 "nbformat_minor": 5
}
